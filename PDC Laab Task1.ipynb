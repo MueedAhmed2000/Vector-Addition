{
  "nbformat": 4,
  "nbformat_minor": 0,
  "metadata": {
    "colab": {
      "provenance": [],
      "gpuType": "T4"
    },
    "kernelspec": {
      "name": "python3",
      "display_name": "Python 3"
    },
    "language_info": {
      "name": "python"
    },
    "accelerator": "GPU"
  },
  "cells": [
    {
      "cell_type": "code",
      "execution_count": 1,
      "metadata": {
        "colab": {
          "base_uri": "https://localhost:8080/"
        },
        "id": "v8yGJr_GgVdR",
        "outputId": "2f980c86-a4a1-444c-86bd-0463f4d5cf40"
      },
      "outputs": [
        {
          "output_type": "stream",
          "name": "stdout",
          "text": [
            "Vector 1: [1, 2, 3]\n",
            "Vector 2: [4, 5, 6]\n",
            "Sum: [5, 7, 9]\n",
            "Vector 3: [1, 2, 3, 4, 5]\n",
            "Vector 4: [6, 7, 8, 9, 10]\n",
            "Sum (numpy): [7, 9, 11, 13, 15]\n",
            "Vectors of unequal length resulted in None returned.\n"
          ]
        }
      ],
      "source": [
        "def vector_addition(vec1, vec2):\n",
        "\n",
        "  if len(vec1) != len(vec2):\n",
        "    return None\n",
        "\n",
        "  result = []\n",
        "  for i in range(len(vec1)):\n",
        "    result.append(vec1[i] + vec2[i])\n",
        "  return result\n",
        "\n",
        "\n",
        "vector1 = [1, 2, 3]\n",
        "vector2 = [4, 5, 6]\n",
        "\n",
        "sum_vector = vector_addition(vector1, vector2)\n",
        "\n",
        "if sum_vector is not None:\n",
        "  print(\"Vector 1:\", vector1)\n",
        "  print(\"Vector 2:\", vector2)\n",
        "  print(\"Sum:\", sum_vector)\n",
        "else:\n",
        "  print(\"Vectors must have the same length for addition.\")\n",
        "\n",
        "\n",
        "import numpy as np\n",
        "\n",
        "def numpy_vector_addition(vec1, vec2):\n",
        "    vec1_np = np.array(vec1)\n",
        "    vec2_np = np.array(vec2)\n",
        "    if vec1_np.shape != vec2_np.shape:\n",
        "        return None\n",
        "    return (vec1_np + vec2_np).tolist()\n",
        "\n",
        "vector3 = [1, 2, 3, 4, 5]\n",
        "vector4 = [6, 7, 8, 9, 10]\n",
        "\n",
        "sum_vector_numpy = numpy_vector_addition(vector3, vector4)\n",
        "\n",
        "if sum_vector_numpy is not None:\n",
        "    print(\"Vector 3:\", vector3)\n",
        "    print(\"Vector 4:\", vector4)\n",
        "    print(\"Sum (numpy):\", sum_vector_numpy)\n",
        "else:\n",
        "    print(\"Vectors must have the same shape for addition.\")\n",
        "\n",
        "\n",
        "vector5 = [1,2,3]\n",
        "vector6 = [1,2]\n",
        "\n",
        "sum_vector_error = vector_addition(vector5,vector6)\n",
        "\n",
        "if sum_vector_error is None:\n",
        "  print(\"Vectors of unequal length resulted in None returned.\")"
      ]
    },
    {
      "cell_type": "markdown",
      "source": [
        "#Name: Mueed Ahmed\n",
        "#Reg No: SP21-BCS-059"
      ],
      "metadata": {
        "id": "MM38reKKj6XA"
      }
    }
  ]
}